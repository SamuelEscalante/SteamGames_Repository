{
 "cells": [
  {
   "cell_type": "code",
   "execution_count": 2,
   "metadata": {},
   "outputs": [],
   "source": [
    "import pandas as pd\n",
    "import os\n",
    "from dotenv import load_dotenv"
   ]
  },
  {
   "cell_type": "code",
   "execution_count": 3,
   "metadata": {},
   "outputs": [],
   "source": [
    "load_dotenv()\n",
    "\n",
    "work_dir = os.getenv(\"WORK_DIR\")\n",
    "\n",
    "file_path = \"../data/final_games.csv\"\n",
    "df = pd.read_csv(file_path, encoding='utf-8')\n"
   ]
  },
  {
   "cell_type": "code",
   "execution_count": 4,
   "metadata": {},
   "outputs": [],
   "source": [
    "df['SupportedLanguagesSepareted'] = df['SupportedLanguages'].str.split(',')\n",
    "\n",
    "df_languages = df.explode('SupportedLanguagesSepareted')\n",
    "\n",
    "df_languages['SupportedLanguagesSepareted'] = df_languages['SupportedLanguagesSepareted'].str.strip()\n",
    "\n",
    "df_languages['LanguageFrequency'] = df_languages['SupportedLanguagesSepareted'].map(df_languages['SupportedLanguagesSepareted'].value_counts())\n",
    "\n",
    "view = ['AppID', 'Name', 'SupportedLanguages', 'SupportedLanguagesSepareted', 'LanguageFrequency']\n",
    "\n",
    "df_languages[view].to_csv(f'{work_dir}/data/SupportedLanguages.csv', index=False, encoding='utf-8')"
   ]
  },
  {
   "cell_type": "code",
   "execution_count": 5,
   "metadata": {},
   "outputs": [],
   "source": [
    "df['CategoriesSepareted'] = df['Categories'].str.split(',')\n",
    "\n",
    "df_categories = df.explode('CategoriesSepareted')\n",
    "\n",
    "df_categories['CategoriesSepareted'] = df_categories['CategoriesSepareted'].str.strip()\n",
    "\n",
    "view = ['AppID', 'Name', 'Categories', 'CategoriesSepareted']\n",
    "\n",
    "df_categories[view].to_csv(f'{work_dir}/data/Categories.csv', index=False, encoding='utf-8')"
   ]
  },
  {
   "cell_type": "code",
   "execution_count": 6,
   "metadata": {},
   "outputs": [],
   "source": [
    "df['GenresSepareted'] = df['Genres'].str.split(',')\n",
    "\n",
    "df_genres = df.explode('GenresSepareted')\n",
    "\n",
    "df_genres['GenresSepareted'] = df_genres['GenresSepareted'].str.strip()\n",
    "\n",
    "view = ['AppID', 'Name', 'Genres', 'GenresSepareted']\n",
    "\n",
    "df_genres[view].to_csv(f'{work_dir}/data/Genres.csv', index=False, encoding='utf-8')"
   ]
  },
  {
   "cell_type": "code",
   "execution_count": null,
   "metadata": {},
   "outputs": [],
   "source": [
    "df['TagsSepareted'] = df['Tags'].str.split(',')\n",
    "\n",
    "df_tags = df.explode('TagsSepareted')\n",
    "\n",
    "df_tags['TagsSepareted'] = df_tags['TagsSepareted'].str.strip()\n",
    "\n",
    "view = ['AppID', 'Name', 'Tags', 'TagsSepareted']\n",
    "\n",
    "df_tags[view].to_csv(f'{work_dir}/data/Tags.csv', index=False, encoding='utf-8')"
   ]
  }
 ],
 "metadata": {
  "kernelspec": {
   "display_name": "venv",
   "language": "python",
   "name": "python3"
  },
  "language_info": {
   "codemirror_mode": {
    "name": "ipython",
    "version": 3
   },
   "file_extension": ".py",
   "mimetype": "text/x-python",
   "name": "python",
   "nbconvert_exporter": "python",
   "pygments_lexer": "ipython3",
   "version": "3.10.2"
  }
 },
 "nbformat": 4,
 "nbformat_minor": 2
}
