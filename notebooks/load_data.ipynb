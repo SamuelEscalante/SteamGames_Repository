{
 "cells": [
  {
   "cell_type": "code",
   "execution_count": 6,
   "metadata": {},
   "outputs": [
    {
     "name": "stdout",
     "output_type": "stream",
     "text": [
      "C:/Users/Mariana Mera/SteamGames_Repository\n"
     ]
    }
   ],
   "source": [
    "import os\n",
    "import sys\n",
    "from dotenv import load_dotenv\n",
    "\n",
    "load_dotenv()\n",
    "work_dir = os.getenv(\"WORK_DIR\")\n",
    "print(work_dir)\n",
    "\n",
    "sys.path.append(work_dir)\n"
   ]
  },
  {
   "cell_type": "code",
   "execution_count": 7,
   "metadata": {},
   "outputs": [
    {
     "name": "stdout",
     "output_type": "stream",
     "text": [
      "Conected successfully to database PruebaCarga!\n"
     ]
    }
   ],
   "source": [
    "from src.models.SteamGames_models import Games\n",
    "from sqlalchemy import inspect\n",
    "from sqlalchemy.orm import sessionmaker\n",
    "from src.database.db_connection import get_engine"
   ]
  },
  {
   "cell_type": "code",
   "execution_count": 8,
   "metadata": {},
   "outputs": [
    {
     "name": "stdout",
     "output_type": "stream",
     "text": [
      "Conected successfully to database PruebaCarga!\n"
     ]
    }
   ],
   "source": [
    "connection = get_engine()\n",
    "\n",
    "Session = sessionmaker(bind=connection)\n",
    "session = Session()"
   ]
  },
  {
   "cell_type": "code",
   "execution_count": 9,
   "metadata": {},
   "outputs": [
    {
     "name": "stdout",
     "output_type": "stream",
     "text": [
      "Table created successfully.\n"
     ]
    }
   ],
   "source": [
    "if inspect(connection).has_table('raw_games'):\n",
    "    try:\n",
    "        Games.__table__.drop(connection)\n",
    "        Games.__table__.create(connection)\n",
    "        print(\"Table created successfully.\")\n",
    "    except Exception as e:\n",
    "        print(f\"Error creating table: {e}\")\n",
    "else:\n",
    "    try:\n",
    "        Games.__table__.create(connection)\n",
    "        print(\"Table created successfully.\")\n",
    "    except Exception as e:\n",
    "        print(f\"Error creating table: {e}\")"
   ]
  },
  {
   "cell_type": "code",
   "execution_count": 10,
   "metadata": {},
   "outputs": [
    {
     "name": "stderr",
     "output_type": "stream",
     "text": [
      "C:\\Users\\manue\\AppData\\Local\\Temp\\ipykernel_33472\\3051339552.py:1: DeprecationWarning: \n",
      "Pyarrow will become a required dependency of pandas in the next major release of pandas (pandas 3.0),\n",
      "(to allow more performant data types, such as the Arrow string type, and better interoperability with other libraries)\n",
      "but was not found to be installed on your system.\n",
      "If this would cause problems for you,\n",
      "please provide us feedback at https://github.com/pandas-dev/pandas/issues/54466\n",
      "        \n",
      "  import pandas as pd\n"
     ]
    },
    {
     "data": {
      "text/plain": [
       "Index(['AppID', 'Name', 'ReleaseDate', 'EstimatedOwners', 'PeakCCU',\n",
       "       'RequiredAge', 'Price', 'DLCCount', 'AboutTheGame',\n",
       "       'SupportedLanguages', 'FullAudioLanguages', 'Reviews', 'HeaderImage',\n",
       "       'Website', 'SupportUrl', 'SupportEmail', 'Windows', 'Mac', 'Linux',\n",
       "       'MetacriticScore', 'MetacriticUrl', 'UserScore', 'Positive', 'Negative',\n",
       "       'ScoreRank', 'Achievements', 'Recommendations', 'Notes',\n",
       "       'AveragePlaytimeForever', 'AveragePlaytimeTwoWeeks',\n",
       "       'MedianPlaytimeForever', 'MedianPlaytimeTwoWeeks', 'Developers',\n",
       "       'Publishers', 'Categories', 'Genres', 'Tags', 'Screenshots', 'Movies'],\n",
       "      dtype='object')"
      ]
     },
     "execution_count": 10,
     "metadata": {},
     "output_type": "execute_result"
    }
   ],
   "source": [
    "import pandas as pd\n",
    "games = pd.read_csv('../data/games.csv')\n",
    "\n",
    "def capitalize_next_word(column_name):\n",
    "    result = \"\"\n",
    "    capitalize_next = True\n",
    "    for char in column_name:\n",
    "        if char == \" \":\n",
    "            capitalize_next = True\n",
    "        elif capitalize_next:\n",
    "            result += char.upper()\n",
    "            capitalize_next = False\n",
    "        else:\n",
    "            result += char\n",
    "    return result\n",
    "\n",
    "games.rename(columns=capitalize_next_word, inplace=True)\n",
    "games.columns"
   ]
  },
  {
   "cell_type": "code",
   "execution_count": 11,
   "metadata": {},
   "outputs": [
    {
     "name": "stdout",
     "output_type": "stream",
     "text": [
      "Data uploaded\n"
     ]
    }
   ],
   "source": [
    "try:\n",
    "\n",
    "    games.to_sql('raw_games', connection, if_exists='replace', index=False)\n",
    "    print(\"Data uploaded\")\n",
    "\n",
    "except Exception as e:\n",
    "    print(f\"Error: {e}\")\n",
    "\n",
    "finally:\n",
    "    session.close()"
   ]
  }
 ],
 "metadata": {
  "kernelspec": {
   "display_name": "venv",
   "language": "python",
   "name": "python3"
  },
  "language_info": {
   "codemirror_mode": {
    "name": "ipython",
    "version": 3
   },
   "file_extension": ".py",
   "mimetype": "text/x-python",
   "name": "python",
   "nbconvert_exporter": "python",
   "pygments_lexer": "ipython3",
   "version": "3.11.8"
  }
 },
 "nbformat": 4,
 "nbformat_minor": 2
}
