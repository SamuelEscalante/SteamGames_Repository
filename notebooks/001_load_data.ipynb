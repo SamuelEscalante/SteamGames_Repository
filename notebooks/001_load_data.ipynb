{
 "cells": [
  {
   "cell_type": "markdown",
   "metadata": {},
   "source": [
    "### Data Preparation and Uploading to the Database\n",
    "\n",
    "This notebook deals with loading data from a CSV file into a SQL database as part of the Exploratory Data Analysis (EDA) process. Transformations such as column name capitalization will be performed to improve the readability of the data before loading it into the database."
   ]
  },
  {
   "cell_type": "markdown",
   "metadata": {},
   "source": [
    "Set the work envarioment"
   ]
  },
  {
   "cell_type": "code",
   "execution_count": 1,
   "metadata": {},
   "outputs": [],
   "source": [
    "import os\n",
    "import sys\n",
    "from dotenv import load_dotenv\n",
    "\n",
    "load_dotenv()\n",
    "work_dir = os.getenv(\"WORK_DIR\")\n",
    "\n",
    "sys.path.append(work_dir)\n"
   ]
  },
  {
   "cell_type": "markdown",
   "metadata": {},
   "source": [
    "These imports allow us to interact with the database and perform operations such as querying and manipulating Steam game data effectively."
   ]
  },
  {
   "cell_type": "code",
   "execution_count": 3,
   "metadata": {},
   "outputs": [],
   "source": [
    "import pandas as pd\n",
    "from src.models.SteamGames_models import Games\n",
    "from sqlalchemy import inspect\n",
    "from sqlalchemy.orm import sessionmaker\n",
    "from src.database.db_connection import get_engine"
   ]
  },
  {
   "cell_type": "markdown",
   "metadata": {},
   "source": [
    "Connection and sessions"
   ]
  },
  {
   "cell_type": "code",
   "execution_count": 4,
   "metadata": {},
   "outputs": [
    {
     "name": "stdout",
     "output_type": "stream",
     "text": [
      "Conected successfully to database PruebaCarga!\n"
     ]
    }
   ],
   "source": [
    "connection = get_engine()\n",
    "\n",
    "Session = sessionmaker(bind=connection)\n",
    "session = Session()"
   ]
  },
  {
   "cell_type": "markdown",
   "metadata": {},
   "source": [
    "This code ensures that the table 'raw_games' is updated in the database, using the Games model to do so."
   ]
  },
  {
   "cell_type": "code",
   "execution_count": 5,
   "metadata": {},
   "outputs": [
    {
     "name": "stdout",
     "output_type": "stream",
     "text": [
      "Table created successfully.\n"
     ]
    }
   ],
   "source": [
    "if inspect(connection).has_table('raw_games'):\n",
    "    try:\n",
    "        Games.__table__.drop(connection)\n",
    "        Games.__table__.create(connection)\n",
    "        print(\"Table created successfully.\")\n",
    "    except Exception as e:\n",
    "        print(f\"Error creating table: {e}\")\n",
    "else:\n",
    "    try:\n",
    "        Games.__table__.create(connection)\n",
    "        print(\"Table created successfully.\")\n",
    "    except Exception as e:\n",
    "        print(f\"Error creating table: {e}\")"
   ]
  },
  {
   "cell_type": "markdown",
   "metadata": {},
   "source": [
    "Transformation of column names "
   ]
  },
  {
   "cell_type": "code",
   "execution_count": 6,
   "metadata": {},
   "outputs": [
    {
     "data": {
      "text/plain": [
       "Index(['AppID', 'Name', 'ReleaseDate', 'EstimatedOwners', 'PeakCCU',\n",
       "       'RequiredAge', 'Price', 'DLCCount', 'AboutTheGame',\n",
       "       'SupportedLanguages', 'FullAudioLanguages', 'Reviews', 'HeaderImage',\n",
       "       'Website', 'SupportUrl', 'SupportEmail', 'Windows', 'Mac', 'Linux',\n",
       "       'MetacriticScore', 'MetacriticUrl', 'UserScore', 'Positive', 'Negative',\n",
       "       'ScoreRank', 'Achievements', 'Recommendations', 'Notes',\n",
       "       'AveragePlaytimeForever', 'AveragePlaytimeTwoWeeks',\n",
       "       'MedianPlaytimeForever', 'MedianPlaytimeTwoWeeks', 'Developers',\n",
       "       'Publishers', 'Categories', 'Genres', 'Tags', 'Screenshots', 'Movies'],\n",
       "      dtype='object')"
      ]
     },
     "execution_count": 6,
     "metadata": {},
     "output_type": "execute_result"
    }
   ],
   "source": [
    "games = pd.read_csv('../data/games.csv')\n",
    "\n",
    "def capitalize_next_word(column_name):\n",
    "    result = \"\"\n",
    "    capitalize_next = True\n",
    "    for char in column_name:\n",
    "        if char == \" \":\n",
    "            capitalize_next = True\n",
    "        elif capitalize_next:\n",
    "            result += char.upper()\n",
    "            capitalize_next = False\n",
    "        else:\n",
    "            result += char\n",
    "    return result\n",
    "\n",
    "games.rename(columns=capitalize_next_word, inplace=True)\n",
    "games.columns"
   ]
  },
  {
   "cell_type": "markdown",
   "metadata": {},
   "source": [
    "Uploading Information to the Database"
   ]
  },
  {
   "cell_type": "code",
   "execution_count": 7,
   "metadata": {},
   "outputs": [
    {
     "name": "stdout",
     "output_type": "stream",
     "text": [
      "Data uploaded\n"
     ]
    }
   ],
   "source": [
    "try:\n",
    "    games.to_sql('raw_games', connection, if_exists='replace', index=False)\n",
    "    print(\"Data uploaded\")\n",
    "\n",
    "except Exception as e:\n",
    "    print(f\"Error: {e}\")\n",
    "    \n",
    "finally:\n",
    "    session.close()"
   ]
  },
  {
   "cell_type": "markdown",
   "metadata": {},
   "source": [
    "**Here ends the first notebook of this project, you must continue with notebook 002.**"
   ]
  }
 ],
 "metadata": {
  "kernelspec": {
   "display_name": "venv",
   "language": "python",
   "name": "python3"
  },
  "language_info": {
   "codemirror_mode": {
    "name": "ipython",
    "version": 3
   },
   "file_extension": ".py",
   "mimetype": "text/x-python",
   "name": "python",
   "nbconvert_exporter": "python",
   "pygments_lexer": "ipython3",
   "version": "3.10.2"
  }
 },
 "nbformat": 4,
 "nbformat_minor": 2
}
