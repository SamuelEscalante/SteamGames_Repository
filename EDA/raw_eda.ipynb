{
 "cells": [
  {
   "cell_type": "markdown",
   "metadata": {},
   "source": [
    "# EDA Steam Games \n",
    "\n",
    "Exploratory data analysis (EDA) is a fundamental phase in the process of understanding and preparing data. In this case, we have a dataset related to games from Steam, a digital distribution platform for video games. This EDA will focus on exploring the different characteristics of the games present in the dataset.\n"
   ]
  },
  {
   "cell_type": "markdown",
   "metadata": {},
   "source": [
    "In this phase, we are going to use Python and some of its libraries, such as pandas, matplotlib and seaborn, to explore and visualize our dataset."
   ]
  },
  {
   "cell_type": "code",
   "execution_count": 1,
   "metadata": {},
   "outputs": [
    {
     "name": "stderr",
     "output_type": "stream",
     "text": [
      "C:\\Users\\saale\\AppData\\Local\\Temp\\ipykernel_17736\\1465787856.py:1: DeprecationWarning: \n",
      "Pyarrow will become a required dependency of pandas in the next major release of pandas (pandas 3.0),\n",
      "(to allow more performant data types, such as the Arrow string type, and better interoperability with other libraries)\n",
      "but was not found to be installed on your system.\n",
      "If this would cause problems for you,\n",
      "please provide us feedback at https://github.com/pandas-dev/pandas/issues/54466\n",
      "        \n",
      "  import pandas as pd\n"
     ]
    }
   ],
   "source": [
    "import pandas as pd\n",
    "import matplotlib.pyplot as plt\n",
    "import seaborn as sns\n",
    "#import missingno as msno"
   ]
  },
  {
   "cell_type": "markdown",
   "metadata": {},
   "source": [
    "Load dataset"
   ]
  },
  {
   "cell_type": "code",
   "execution_count": 2,
   "metadata": {},
   "outputs": [
    {
     "data": {
      "text/html": [
       "<div>\n",
       "<style scoped>\n",
       "    .dataframe tbody tr th:only-of-type {\n",
       "        vertical-align: middle;\n",
       "    }\n",
       "\n",
       "    .dataframe tbody tr th {\n",
       "        vertical-align: top;\n",
       "    }\n",
       "\n",
       "    .dataframe thead th {\n",
       "        text-align: right;\n",
       "    }\n",
       "</style>\n",
       "<table border=\"1\" class=\"dataframe\">\n",
       "  <thead>\n",
       "    <tr style=\"text-align: right;\">\n",
       "      <th></th>\n",
       "      <th>AppID</th>\n",
       "      <th>Name</th>\n",
       "      <th>Release date</th>\n",
       "      <th>Estimated owners</th>\n",
       "      <th>Peak CCU</th>\n",
       "      <th>Required age</th>\n",
       "      <th>Price</th>\n",
       "      <th>DLC count</th>\n",
       "      <th>About the game</th>\n",
       "      <th>Supported languages</th>\n",
       "      <th>...</th>\n",
       "      <th>Average playtime two weeks</th>\n",
       "      <th>Median playtime forever</th>\n",
       "      <th>Median playtime two weeks</th>\n",
       "      <th>Developers</th>\n",
       "      <th>Publishers</th>\n",
       "      <th>Categories</th>\n",
       "      <th>Genres</th>\n",
       "      <th>Tags</th>\n",
       "      <th>Screenshots</th>\n",
       "      <th>Movies</th>\n",
       "    </tr>\n",
       "  </thead>\n",
       "  <tbody>\n",
       "    <tr>\n",
       "      <th>0</th>\n",
       "      <td>20200</td>\n",
       "      <td>Galactic Bowling</td>\n",
       "      <td>Oct 21, 2008</td>\n",
       "      <td>0 - 20000</td>\n",
       "      <td>0</td>\n",
       "      <td>0</td>\n",
       "      <td>19.99</td>\n",
       "      <td>0</td>\n",
       "      <td>Galactic Bowling is an exaggerated and stylize...</td>\n",
       "      <td>['English']</td>\n",
       "      <td>...</td>\n",
       "      <td>0</td>\n",
       "      <td>0</td>\n",
       "      <td>0</td>\n",
       "      <td>Perpetual FX Creative</td>\n",
       "      <td>Perpetual FX Creative</td>\n",
       "      <td>Single-player,Multi-player,Steam Achievements,...</td>\n",
       "      <td>Casual,Indie,Sports</td>\n",
       "      <td>Indie,Casual,Sports,Bowling</td>\n",
       "      <td>https://cdn.akamai.steamstatic.com/steam/apps/...</td>\n",
       "      <td>http://cdn.akamai.steamstatic.com/steam/apps/2...</td>\n",
       "    </tr>\n",
       "    <tr>\n",
       "      <th>1</th>\n",
       "      <td>655370</td>\n",
       "      <td>Train Bandit</td>\n",
       "      <td>Oct 12, 2017</td>\n",
       "      <td>0 - 20000</td>\n",
       "      <td>0</td>\n",
       "      <td>0</td>\n",
       "      <td>0.99</td>\n",
       "      <td>0</td>\n",
       "      <td>THE LAW!! Looks to be a showdown atop a train....</td>\n",
       "      <td>['English', 'French', 'Italian', 'German', 'Sp...</td>\n",
       "      <td>...</td>\n",
       "      <td>0</td>\n",
       "      <td>0</td>\n",
       "      <td>0</td>\n",
       "      <td>Rusty Moyher</td>\n",
       "      <td>Wild Rooster</td>\n",
       "      <td>Single-player,Steam Achievements,Full controll...</td>\n",
       "      <td>Action,Indie</td>\n",
       "      <td>Indie,Action,Pixel Graphics,2D,Retro,Arcade,Sc...</td>\n",
       "      <td>https://cdn.akamai.steamstatic.com/steam/apps/...</td>\n",
       "      <td>http://cdn.akamai.steamstatic.com/steam/apps/2...</td>\n",
       "    </tr>\n",
       "    <tr>\n",
       "      <th>2</th>\n",
       "      <td>1732930</td>\n",
       "      <td>Jolt Project</td>\n",
       "      <td>Nov 17, 2021</td>\n",
       "      <td>0 - 20000</td>\n",
       "      <td>0</td>\n",
       "      <td>0</td>\n",
       "      <td>4.99</td>\n",
       "      <td>0</td>\n",
       "      <td>Jolt Project: The army now has a new robotics ...</td>\n",
       "      <td>['English', 'Portuguese - Brazil']</td>\n",
       "      <td>...</td>\n",
       "      <td>0</td>\n",
       "      <td>0</td>\n",
       "      <td>0</td>\n",
       "      <td>Campião Games</td>\n",
       "      <td>Campião Games</td>\n",
       "      <td>Single-player</td>\n",
       "      <td>Action,Adventure,Indie,Strategy</td>\n",
       "      <td>NaN</td>\n",
       "      <td>https://cdn.akamai.steamstatic.com/steam/apps/...</td>\n",
       "      <td>http://cdn.akamai.steamstatic.com/steam/apps/2...</td>\n",
       "    </tr>\n",
       "    <tr>\n",
       "      <th>3</th>\n",
       "      <td>1355720</td>\n",
       "      <td>Henosis™</td>\n",
       "      <td>Jul 23, 2020</td>\n",
       "      <td>0 - 20000</td>\n",
       "      <td>0</td>\n",
       "      <td>0</td>\n",
       "      <td>5.99</td>\n",
       "      <td>0</td>\n",
       "      <td>HENOSIS™ is a mysterious 2D Platform Puzzler w...</td>\n",
       "      <td>['English', 'French', 'Italian', 'German', 'Sp...</td>\n",
       "      <td>...</td>\n",
       "      <td>0</td>\n",
       "      <td>0</td>\n",
       "      <td>0</td>\n",
       "      <td>Odd Critter Games</td>\n",
       "      <td>Odd Critter Games</td>\n",
       "      <td>Single-player,Full controller support</td>\n",
       "      <td>Adventure,Casual,Indie</td>\n",
       "      <td>2D Platformer,Atmospheric,Surreal,Mystery,Puzz...</td>\n",
       "      <td>https://cdn.akamai.steamstatic.com/steam/apps/...</td>\n",
       "      <td>http://cdn.akamai.steamstatic.com/steam/apps/2...</td>\n",
       "    </tr>\n",
       "    <tr>\n",
       "      <th>4</th>\n",
       "      <td>1139950</td>\n",
       "      <td>Two Weeks in Painland</td>\n",
       "      <td>Feb 3, 2020</td>\n",
       "      <td>0 - 20000</td>\n",
       "      <td>0</td>\n",
       "      <td>0</td>\n",
       "      <td>0.00</td>\n",
       "      <td>0</td>\n",
       "      <td>ABOUT THE GAME Play as a hacker who has arrang...</td>\n",
       "      <td>['English', 'Spanish - Spain']</td>\n",
       "      <td>...</td>\n",
       "      <td>0</td>\n",
       "      <td>0</td>\n",
       "      <td>0</td>\n",
       "      <td>Unusual Games</td>\n",
       "      <td>Unusual Games</td>\n",
       "      <td>Single-player,Steam Achievements</td>\n",
       "      <td>Adventure,Indie</td>\n",
       "      <td>Indie,Adventure,Nudity,Violent,Sexual Content,...</td>\n",
       "      <td>https://cdn.akamai.steamstatic.com/steam/apps/...</td>\n",
       "      <td>http://cdn.akamai.steamstatic.com/steam/apps/2...</td>\n",
       "    </tr>\n",
       "  </tbody>\n",
       "</table>\n",
       "<p>5 rows × 39 columns</p>\n",
       "</div>"
      ],
      "text/plain": [
       "     AppID                   Name  Release date Estimated owners  Peak CCU  \\\n",
       "0    20200       Galactic Bowling  Oct 21, 2008        0 - 20000         0   \n",
       "1   655370           Train Bandit  Oct 12, 2017        0 - 20000         0   \n",
       "2  1732930           Jolt Project  Nov 17, 2021        0 - 20000         0   \n",
       "3  1355720               Henosis™  Jul 23, 2020        0 - 20000         0   \n",
       "4  1139950  Two Weeks in Painland   Feb 3, 2020        0 - 20000         0   \n",
       "\n",
       "   Required age  Price  DLC count  \\\n",
       "0             0  19.99          0   \n",
       "1             0   0.99          0   \n",
       "2             0   4.99          0   \n",
       "3             0   5.99          0   \n",
       "4             0   0.00          0   \n",
       "\n",
       "                                      About the game  \\\n",
       "0  Galactic Bowling is an exaggerated and stylize...   \n",
       "1  THE LAW!! Looks to be a showdown atop a train....   \n",
       "2  Jolt Project: The army now has a new robotics ...   \n",
       "3  HENOSIS™ is a mysterious 2D Platform Puzzler w...   \n",
       "4  ABOUT THE GAME Play as a hacker who has arrang...   \n",
       "\n",
       "                                 Supported languages  ...  \\\n",
       "0                                        ['English']  ...   \n",
       "1  ['English', 'French', 'Italian', 'German', 'Sp...  ...   \n",
       "2                 ['English', 'Portuguese - Brazil']  ...   \n",
       "3  ['English', 'French', 'Italian', 'German', 'Sp...  ...   \n",
       "4                     ['English', 'Spanish - Spain']  ...   \n",
       "\n",
       "  Average playtime two weeks Median playtime forever  \\\n",
       "0                          0                       0   \n",
       "1                          0                       0   \n",
       "2                          0                       0   \n",
       "3                          0                       0   \n",
       "4                          0                       0   \n",
       "\n",
       "  Median playtime two weeks             Developers             Publishers  \\\n",
       "0                         0  Perpetual FX Creative  Perpetual FX Creative   \n",
       "1                         0           Rusty Moyher           Wild Rooster   \n",
       "2                         0          Campião Games          Campião Games   \n",
       "3                         0      Odd Critter Games      Odd Critter Games   \n",
       "4                         0          Unusual Games          Unusual Games   \n",
       "\n",
       "                                          Categories  \\\n",
       "0  Single-player,Multi-player,Steam Achievements,...   \n",
       "1  Single-player,Steam Achievements,Full controll...   \n",
       "2                                      Single-player   \n",
       "3              Single-player,Full controller support   \n",
       "4                   Single-player,Steam Achievements   \n",
       "\n",
       "                            Genres  \\\n",
       "0              Casual,Indie,Sports   \n",
       "1                     Action,Indie   \n",
       "2  Action,Adventure,Indie,Strategy   \n",
       "3           Adventure,Casual,Indie   \n",
       "4                  Adventure,Indie   \n",
       "\n",
       "                                                Tags  \\\n",
       "0                        Indie,Casual,Sports,Bowling   \n",
       "1  Indie,Action,Pixel Graphics,2D,Retro,Arcade,Sc...   \n",
       "2                                                NaN   \n",
       "3  2D Platformer,Atmospheric,Surreal,Mystery,Puzz...   \n",
       "4  Indie,Adventure,Nudity,Violent,Sexual Content,...   \n",
       "\n",
       "                                         Screenshots  \\\n",
       "0  https://cdn.akamai.steamstatic.com/steam/apps/...   \n",
       "1  https://cdn.akamai.steamstatic.com/steam/apps/...   \n",
       "2  https://cdn.akamai.steamstatic.com/steam/apps/...   \n",
       "3  https://cdn.akamai.steamstatic.com/steam/apps/...   \n",
       "4  https://cdn.akamai.steamstatic.com/steam/apps/...   \n",
       "\n",
       "                                              Movies  \n",
       "0  http://cdn.akamai.steamstatic.com/steam/apps/2...  \n",
       "1  http://cdn.akamai.steamstatic.com/steam/apps/2...  \n",
       "2  http://cdn.akamai.steamstatic.com/steam/apps/2...  \n",
       "3  http://cdn.akamai.steamstatic.com/steam/apps/2...  \n",
       "4  http://cdn.akamai.steamstatic.com/steam/apps/2...  \n",
       "\n",
       "[5 rows x 39 columns]"
      ]
     },
     "execution_count": 2,
     "metadata": {},
     "output_type": "execute_result"
    }
   ],
   "source": [
    "file_path = '../data/games.csv'\n",
    "games = pd.read_csv(file_path)\n",
    "\n",
    "games.head(5)"
   ]
  },
  {
   "cell_type": "markdown",
   "metadata": {},
   "source": [
    "Concise summary of the dataframe, including the number of rows and columns, the column names, the data types in each column, and the number of non-null values present in each column."
   ]
  },
  {
   "cell_type": "code",
   "execution_count": 4,
   "metadata": {},
   "outputs": [
    {
     "name": "stdout",
     "output_type": "stream",
     "text": [
      "<class 'pandas.core.frame.DataFrame'>\n",
      "RangeIndex: 85103 entries, 0 to 85102\n",
      "Data columns (total 39 columns):\n",
      " #   Column                      Non-Null Count  Dtype  \n",
      "---  ------                      --------------  -----  \n",
      " 0   AppID                       85103 non-null  int64  \n",
      " 1   Name                        85097 non-null  object \n",
      " 2   Release date                85103 non-null  object \n",
      " 3   Estimated owners            85103 non-null  object \n",
      " 4   Peak CCU                    85103 non-null  int64  \n",
      " 5   Required age                85103 non-null  int64  \n",
      " 6   Price                       85103 non-null  float64\n",
      " 7   DLC count                   85103 non-null  int64  \n",
      " 8   About the game              81536 non-null  object \n",
      " 9   Supported languages         85103 non-null  object \n",
      " 10  Full audio languages        85103 non-null  object \n",
      " 11  Reviews                     9743 non-null   object \n",
      " 12  Header image                85103 non-null  object \n",
      " 13  Website                     39452 non-null  object \n",
      " 14  Support url                 41586 non-null  object \n",
      " 15  Support email               71507 non-null  object \n",
      " 16  Windows                     85103 non-null  bool   \n",
      " 17  Mac                         85103 non-null  bool   \n",
      " 18  Linux                       85103 non-null  bool   \n",
      " 19  Metacritic score            85103 non-null  int64  \n",
      " 20  Metacritic url              3912 non-null   object \n",
      " 21  User score                  85103 non-null  int64  \n",
      " 22  Positive                    85103 non-null  int64  \n",
      " 23  Negative                    85103 non-null  int64  \n",
      " 24  Score rank                  44 non-null     float64\n",
      " 25  Achievements                85103 non-null  int64  \n",
      " 26  Recommendations             85103 non-null  int64  \n",
      " 27  Notes                       13021 non-null  object \n",
      " 28  Average playtime forever    85103 non-null  int64  \n",
      " 29  Average playtime two weeks  85103 non-null  int64  \n",
      " 30  Median playtime forever     85103 non-null  int64  \n",
      " 31  Median playtime two weeks   85103 non-null  int64  \n",
      " 32  Developers                  81516 non-null  object \n",
      " 33  Publishers                  81236 non-null  object \n",
      " 34  Categories                  80505 non-null  object \n",
      " 35  Genres                      81548 non-null  object \n",
      " 36  Tags                        64003 non-null  object \n",
      " 37  Screenshots                 83097 non-null  object \n",
      " 38  Movies                      78650 non-null  object \n",
      "dtypes: bool(3), float64(2), int64(14), object(20)\n",
      "memory usage: 23.6+ MB\n"
     ]
    }
   ],
   "source": [
    "games.info()"
   ]
  },
  {
   "cell_type": "markdown",
   "metadata": {},
   "source": [
    "Detailed summary of the DataFrame games, including information about columns, data types, missing values, number of rows, and number of unique values."
   ]
  },
  {
   "cell_type": "code",
   "execution_count": 5,
   "metadata": {},
   "outputs": [
    {
     "name": "stdout",
     "output_type": "stream",
     "text": [
      "                                               columns    types  missing  \\\n",
      "AppID                                            AppID    int64        0   \n",
      "Name                                              Name   object        6   \n",
      "Release date                              Release date   object        0   \n",
      "Estimated owners                      Estimated owners   object        0   \n",
      "Peak CCU                                      Peak CCU    int64        0   \n",
      "Required age                              Required age    int64        0   \n",
      "Price                                            Price  float64        0   \n",
      "DLC count                                    DLC count    int64        0   \n",
      "About the game                          About the game   object     3567   \n",
      "Supported languages                Supported languages   object        0   \n",
      "Full audio languages              Full audio languages   object        0   \n",
      "Reviews                                        Reviews   object    75360   \n",
      "Header image                              Header image   object        0   \n",
      "Website                                        Website   object    45651   \n",
      "Support url                                Support url   object    43517   \n",
      "Support email                            Support email   object    13596   \n",
      "Windows                                        Windows     bool        0   \n",
      "Mac                                                Mac     bool        0   \n",
      "Linux                                            Linux     bool        0   \n",
      "Metacritic score                      Metacritic score    int64        0   \n",
      "Metacritic url                          Metacritic url   object    81191   \n",
      "User score                                  User score    int64        0   \n",
      "Positive                                      Positive    int64        0   \n",
      "Negative                                      Negative    int64        0   \n",
      "Score rank                                  Score rank  float64    85059   \n",
      "Achievements                              Achievements    int64        0   \n",
      "Recommendations                        Recommendations    int64        0   \n",
      "Notes                                            Notes   object    72082   \n",
      "Average playtime forever      Average playtime forever    int64        0   \n",
      "Average playtime two weeks  Average playtime two weeks    int64        0   \n",
      "Median playtime forever        Median playtime forever    int64        0   \n",
      "Median playtime two weeks    Median playtime two weeks    int64        0   \n",
      "Developers                                  Developers   object     3587   \n",
      "Publishers                                  Publishers   object     3867   \n",
      "Categories                                  Categories   object     4598   \n",
      "Genres                                          Genres   object     3555   \n",
      "Tags                                              Tags   object    21100   \n",
      "Screenshots                                Screenshots   object     2006   \n",
      "Movies                                          Movies   object     6453   \n",
      "\n",
      "                             size  unique  \n",
      "AppID                       85103   85103  \n",
      "Name                        85103   84367  \n",
      "Release date                85103    4469  \n",
      "Estimated owners            85103      14  \n",
      "Peak CCU                    85103    1445  \n",
      "Required age                85103      19  \n",
      "Price                       85103     584  \n",
      "DLC count                   85103      95  \n",
      "About the game              85103   81100  \n",
      "Supported languages         85103   11306  \n",
      "Full audio languages        85103    2240  \n",
      "Reviews                     85103    9646  \n",
      "Header image                85103   84994  \n",
      "Website                     85103   32199  \n",
      "Support url                 85103   27297  \n",
      "Support email               85103   42081  \n",
      "Windows                     85103       2  \n",
      "Mac                         85103       2  \n",
      "Linux                       85103       2  \n",
      "Metacritic score            85103      73  \n",
      "Metacritic url              85103    3814  \n",
      "User score                  85103      33  \n",
      "Positive                    85103    4532  \n",
      "Negative                    85103    2303  \n",
      "Score rank                  85103       4  \n",
      "Achievements                85103     431  \n",
      "Recommendations             85103    4035  \n",
      "Notes                       85103   10570  \n",
      "Average playtime forever    85103    2209  \n",
      "Average playtime two weeks  85103     781  \n",
      "Median playtime forever     85103    1896  \n",
      "Median playtime two weeks   85103     784  \n",
      "Developers                  85103   49870  \n",
      "Publishers                  85103   43366  \n",
      "Categories                  85103    5648  \n",
      "Genres                      85103    2471  \n",
      "Tags                        85103   57101  \n",
      "Screenshots                 85103   82988  \n",
      "Movies                      85103   78579  \n"
     ]
    }
   ],
   "source": [
    "df_summary = {\n",
    "    'columns': games.columns,\n",
    "    'types': games.dtypes,\n",
    "    'missing': games.isna().sum(),\n",
    "    'size': games.shape[0],\n",
    "    'unique': games.nunique()\n",
    "}\n",
    "\n",
    "print(pd.DataFrame(df_summary))"
   ]
  },
  {
   "cell_type": "markdown",
   "metadata": {},
   "source": [
    "We made a bar chart showing the number of columns of each type of data in the DataFrame games."
   ]
  },
  {
   "cell_type": "code",
   "execution_count": 6,
   "metadata": {},
   "outputs": [
    {
     "data": {
      "image/png": "[encoded data removed]",
      "text/plain": [
       "<Figure size 600x600 with 1 Axes>"
      ]
     },
     "metadata": {},
     "output_type": "display_data"
    }
   ],
   "source": [
    "# Crear la gráfica de barras\n",
    "plt.figure(figsize=(6, 6))\n",
    "ax = sns.countplot(x='types', data=df_summary)\n",
    "\n",
    "# Agregar los valores encima de las barras\n",
    "for p in ax.patches:\n",
    "    ax.annotate(f'{int(p.get_height())}', (p.get_x() + p.get_width() / 2., p.get_height()),\n",
    "                ha='center', va='center', xytext=(0, 10), textcoords='offset points')\n",
    "\n",
    "# Añadir etiquetas y título\n",
    "plt.title('Count of games by type')\n",
    "plt.xlabel('Type')\n",
    "plt.ylabel('Count')\n",
    "\n",
    "# Mostrar la gráfica\n",
    "plt.show()"
   ]
  },
  {
   "cell_type": "markdown",
   "metadata": {},
   "source": [
    "We change the column names in the DataFrame games so that the first letter of each word in each column name is capitalized."
   ]
  },
  {
   "cell_type": "code",
   "execution_count": 4,
   "metadata": {},
   "outputs": [
    {
     "data": {
      "text/plain": [
       "Index(['AppID', 'Name', 'ReleaseDate', 'EstimatedOwners', 'PeakCCU',\n",
       "       'RequiredAge', 'Price', 'DLCCount', 'AboutTheGame',\n",
       "       'SupportedLanguages', 'FullAudioLanguages', 'Reviews', 'HeaderImage',\n",
       "       'Website', 'SupportUrl', 'SupportEmail', 'Windows', 'Mac', 'Linux',\n",
       "       'MetacriticScore', 'MetacriticUrl', 'UserScore', 'Positive', 'Negative',\n",
       "       'ScoreRank', 'Achievements', 'Recommendations', 'Notes',\n",
       "       'AveragePlaytimeForever', 'AveragePlaytimeTwoWeeks',\n",
       "       'MedianPlaytimeForever', 'MedianPlaytimeTwoWeeks', 'Developers',\n",
       "       'Publishers', 'Categories', 'Genres', 'Tags', 'Screenshots', 'Movies'],\n",
       "      dtype='object')"
      ]
     },
     "execution_count": 4,
     "metadata": {},
     "output_type": "execute_result"
    }
   ],
   "source": [
    "def capitalize_next_word(column_name):\n",
    "    result = \"\"\n",
    "    capitalize_next = True\n",
    "    for char in column_name:\n",
    "        if char == \" \":\n",
    "            capitalize_next = True\n",
    "        elif capitalize_next:\n",
    "            result += char.upper()\n",
    "            capitalize_next = False\n",
    "        else:\n",
    "            result += char\n",
    "    return result\n",
    "\n",
    "games.rename(columns=capitalize_next_word, inplace=True)\n",
    "games.columns\n"
   ]
  },
  {
   "cell_type": "markdown",
   "metadata": {},
   "source": [
    "Release Date "
   ]
  },
  {
   "cell_type": "code",
   "execution_count": 8,
   "metadata": {},
   "outputs": [
    {
     "data": {
      "text/html": [
       "<div>\n",
       "<style scoped>\n",
       "    .dataframe tbody tr th:only-of-type {\n",
       "        vertical-align: middle;\n",
       "    }\n",
       "\n",
       "    .dataframe tbody tr th {\n",
       "        vertical-align: top;\n",
       "    }\n",
       "\n",
       "    .dataframe thead th {\n",
       "        text-align: right;\n",
       "    }\n",
       "</style>\n",
       "<table border=\"1\" class=\"dataframe\">\n",
       "  <thead>\n",
       "    <tr style=\"text-align: right;\">\n",
       "      <th></th>\n",
       "      <th>AppID</th>\n",
       "      <th>Name</th>\n",
       "      <th>ReleaseDate</th>\n",
       "      <th>EstimatedOwners</th>\n",
       "      <th>PeakCCU</th>\n",
       "      <th>RequiredAge</th>\n",
       "      <th>Price</th>\n",
       "      <th>DLCCount</th>\n",
       "      <th>AboutTheGame</th>\n",
       "      <th>SupportedLanguages</th>\n",
       "      <th>...</th>\n",
       "      <th>AveragePlaytimeTwoWeeks</th>\n",
       "      <th>MedianPlaytimeForever</th>\n",
       "      <th>MedianPlaytimeTwoWeeks</th>\n",
       "      <th>Developers</th>\n",
       "      <th>Publishers</th>\n",
       "      <th>Categories</th>\n",
       "      <th>Genres</th>\n",
       "      <th>Tags</th>\n",
       "      <th>Screenshots</th>\n",
       "      <th>Movies</th>\n",
       "    </tr>\n",
       "  </thead>\n",
       "  <tbody>\n",
       "    <tr>\n",
       "      <th>0</th>\n",
       "      <td>20200</td>\n",
       "      <td>Galactic Bowling</td>\n",
       "      <td>2008-10-21</td>\n",
       "      <td>0 - 20000</td>\n",
       "      <td>0</td>\n",
       "      <td>0</td>\n",
       "      <td>19.99</td>\n",
       "      <td>0</td>\n",
       "      <td>Galactic Bowling is an exaggerated and stylize...</td>\n",
       "      <td>['English']</td>\n",
       "      <td>...</td>\n",
       "      <td>0</td>\n",
       "      <td>0</td>\n",
       "      <td>0</td>\n",
       "      <td>Perpetual FX Creative</td>\n",
       "      <td>Perpetual FX Creative</td>\n",
       "      <td>Single-player,Multi-player,Steam Achievements,...</td>\n",
       "      <td>Casual,Indie,Sports</td>\n",
       "      <td>Indie,Casual,Sports,Bowling</td>\n",
       "      <td>https://cdn.akamai.steamstatic.com/steam/apps/...</td>\n",
       "      <td>http://cdn.akamai.steamstatic.com/steam/apps/2...</td>\n",
       "    </tr>\n",
       "    <tr>\n",
       "      <th>1</th>\n",
       "      <td>655370</td>\n",
       "      <td>Train Bandit</td>\n",
       "      <td>2017-10-12</td>\n",
       "      <td>0 - 20000</td>\n",
       "      <td>0</td>\n",
       "      <td>0</td>\n",
       "      <td>0.99</td>\n",
       "      <td>0</td>\n",
       "      <td>THE LAW!! Looks to be a showdown atop a train....</td>\n",
       "      <td>['English', 'French', 'Italian', 'German', 'Sp...</td>\n",
       "      <td>...</td>\n",
       "      <td>0</td>\n",
       "      <td>0</td>\n",
       "      <td>0</td>\n",
       "      <td>Rusty Moyher</td>\n",
       "      <td>Wild Rooster</td>\n",
       "      <td>Single-player,Steam Achievements,Full controll...</td>\n",
       "      <td>Action,Indie</td>\n",
       "      <td>Indie,Action,Pixel Graphics,2D,Retro,Arcade,Sc...</td>\n",
       "      <td>https://cdn.akamai.steamstatic.com/steam/apps/...</td>\n",
       "      <td>http://cdn.akamai.steamstatic.com/steam/apps/2...</td>\n",
       "    </tr>\n",
       "  </tbody>\n",
       "</table>\n",
       "<p>2 rows × 39 columns</p>\n",
       "</div>"
      ],
      "text/plain": [
       "    AppID              Name ReleaseDate EstimatedOwners  PeakCCU  RequiredAge  \\\n",
       "0   20200  Galactic Bowling  2008-10-21       0 - 20000        0            0   \n",
       "1  655370      Train Bandit  2017-10-12       0 - 20000        0            0   \n",
       "\n",
       "   Price  DLCCount                                       AboutTheGame  \\\n",
       "0  19.99         0  Galactic Bowling is an exaggerated and stylize...   \n",
       "1   0.99         0  THE LAW!! Looks to be a showdown atop a train....   \n",
       "\n",
       "                                  SupportedLanguages  ...  \\\n",
       "0                                        ['English']  ...   \n",
       "1  ['English', 'French', 'Italian', 'German', 'Sp...  ...   \n",
       "\n",
       "  AveragePlaytimeTwoWeeks MedianPlaytimeForever MedianPlaytimeTwoWeeks  \\\n",
       "0                       0                     0                      0   \n",
       "1                       0                     0                      0   \n",
       "\n",
       "              Developers             Publishers  \\\n",
       "0  Perpetual FX Creative  Perpetual FX Creative   \n",
       "1           Rusty Moyher           Wild Rooster   \n",
       "\n",
       "                                          Categories               Genres  \\\n",
       "0  Single-player,Multi-player,Steam Achievements,...  Casual,Indie,Sports   \n",
       "1  Single-player,Steam Achievements,Full controll...         Action,Indie   \n",
       "\n",
       "                                                Tags  \\\n",
       "0                        Indie,Casual,Sports,Bowling   \n",
       "1  Indie,Action,Pixel Graphics,2D,Retro,Arcade,Sc...   \n",
       "\n",
       "                                         Screenshots  \\\n",
       "0  https://cdn.akamai.steamstatic.com/steam/apps/...   \n",
       "1  https://cdn.akamai.steamstatic.com/steam/apps/...   \n",
       "\n",
       "                                              Movies  \n",
       "0  http://cdn.akamai.steamstatic.com/steam/apps/2...  \n",
       "1  http://cdn.akamai.steamstatic.com/steam/apps/2...  \n",
       "\n",
       "[2 rows x 39 columns]"
      ]
     },
     "execution_count": 8,
     "metadata": {},
     "output_type": "execute_result"
    }
   ],
   "source": [
    "games['ReleaseDate'] = pd.to_datetime(games['ReleaseDate'], format='mixed')\n",
    "games.head(2)"
   ]
  },
  {
   "cell_type": "markdown",
   "metadata": {},
   "source": [
    "Name nullos "
   ]
  },
  {
   "cell_type": "code",
   "execution_count": 9,
   "metadata": {},
   "outputs": [
    {
     "data": {
      "text/plain": [
       "Index([25222, 72038, 77215, 77487, 77561, 77721], dtype='int64')"
      ]
     },
     "execution_count": 9,
     "metadata": {},
     "output_type": "execute_result"
    }
   ],
   "source": [
    "games.loc[games['Name'].isna()].index"
   ]
  },
  {
   "cell_type": "code",
   "execution_count": 10,
   "metadata": {},
   "outputs": [
    {
     "data": {
      "text/plain": [
       "AppID                          0\n",
       "Name                           0\n",
       "ReleaseDate                    0\n",
       "EstimatedOwners                0\n",
       "PeakCCU                        0\n",
       "RequiredAge                    0\n",
       "Price                          0\n",
       "DLCCount                       0\n",
       "AboutTheGame                3562\n",
       "SupportedLanguages             0\n",
       "FullAudioLanguages             0\n",
       "Reviews                    75354\n",
       "HeaderImage                    0\n",
       "Website                    45645\n",
       "SupportUrl                 43511\n",
       "SupportEmail               13590\n",
       "Windows                        0\n",
       "Mac                            0\n",
       "Linux                          0\n",
       "MetacriticScore                0\n",
       "MetacriticUrl              81185\n",
       "UserScore                      0\n",
       "Positive                       0\n",
       "Negative                       0\n",
       "ScoreRank                  85053\n",
       "Achievements                   0\n",
       "Recommendations                0\n",
       "Notes                      72079\n",
       "AveragePlaytimeForever         0\n",
       "AveragePlaytimeTwoWeeks        0\n",
       "MedianPlaytimeForever          0\n",
       "MedianPlaytimeTwoWeeks         0\n",
       "Developers                  3581\n",
       "Publishers                  3861\n",
       "Categories                  4595\n",
       "Genres                      3553\n",
       "Tags                       21094\n",
       "Screenshots                 2001\n",
       "Movies                      6448\n",
       "dtype: int64"
      ]
     },
     "execution_count": 10,
     "metadata": {},
     "output_type": "execute_result"
    }
   ],
   "source": [
    "#Delete null names \n",
    "games = games.drop(games.loc[games['Name'].isna()].index)\n",
    "games.isna().sum()"
   ]
  },
  {
   "cell_type": "code",
   "execution_count": 11,
   "metadata": {},
   "outputs": [
    {
     "data": {
      "text/plain": [
       "105                             溪风谷之战 Playtest\n",
       "180                      Burial Stone Playtest\n",
       "214                  Emperial Knights Playtest\n",
       "220                     Slotracers VR Playtest\n",
       "291      Pirates of the Asteroid Belt Playtest\n",
       "                         ...                  \n",
       "85003                         Elysium Playtest\n",
       "85040                         Dastaan Playtest\n",
       "85062                               SlipBreak™\n",
       "85088                Backpack Battles Playtest\n",
       "85095               Scorching Engines Playtest\n",
       "Name: Name, Length: 3562, dtype: object"
      ]
     },
     "execution_count": 11,
     "metadata": {},
     "output_type": "execute_result"
    }
   ],
   "source": [
    "games.loc[games['AboutTheGame'].isna(),\"Name\"]"
   ]
  },
  {
   "cell_type": "markdown",
   "metadata": {},
   "source": [
    "Imputacion About the Game"
   ]
  },
  {
   "cell_type": "code",
   "execution_count": 12,
   "metadata": {},
   "outputs": [
    {
     "name": "stderr",
     "output_type": "stream",
     "text": [
      "C:\\Users\\saale\\AppData\\Local\\Temp\\ipykernel_20692\\1966714665.py:1: FutureWarning: A value is trying to be set on a copy of a DataFrame or Series through chained assignment using an inplace method.\n",
      "The behavior will change in pandas 3.0. This inplace method will never work because the intermediate object on which we are setting values always behaves as a copy.\n",
      "\n",
      "For example, when doing 'df[col].method(value, inplace=True)', try using 'df.method({col: value}, inplace=True)' or df[col] = df[col].method(value) instead, to perform the operation inplace on the original object.\n",
      "\n",
      "\n",
      "  games['AboutTheGame'].fillna('', inplace=True)\n"
     ]
    }
   ],
   "source": [
    "games['AboutTheGame'].fillna('', inplace=True)\n"
   ]
  },
  {
   "cell_type": "code",
   "execution_count": null,
   "metadata": {},
   "outputs": [],
   "source": [
    "games.isna().sum()"
   ]
  },
  {
   "cell_type": "markdown",
   "metadata": {},
   "source": [
    "SupportedLanguages"
   ]
  },
  {
   "cell_type": "markdown",
   "metadata": {},
   "source": [
    "Conocer la cantidad de idiomas que se pueden utilizar en el juego "
   ]
  },
  {
   "cell_type": "code",
   "execution_count": 14,
   "metadata": {},
   "outputs": [],
   "source": [
    "games['NumSupportedLanguages'] = games['SupportedLanguages'].apply(lambda x: len(x.split(', ')))\n"
   ]
  },
  {
   "cell_type": "code",
   "execution_count": 6,
   "metadata": {},
   "outputs": [
    {
     "data": {
      "text/plain": [
       "0                                              ['English']\n",
       "1        ['English', 'French', 'Italian', 'German', 'Sp...\n",
       "2                       ['English', 'Portuguese - Brazil']\n",
       "3        ['English', 'French', 'Italian', 'German', 'Sp...\n",
       "4                           ['English', 'Spanish - Spain']\n",
       "                               ...                        \n",
       "85098                               ['English', 'Finnish']\n",
       "85099                                          ['English']\n",
       "85100                                          ['English']\n",
       "85101                                          ['English']\n",
       "85102                                          ['English']\n",
       "Name: SupportedLanguages, Length: 85103, dtype: object"
      ]
     },
     "execution_count": 6,
     "metadata": {},
     "output_type": "execute_result"
    }
   ],
   "source": [
    "games['SupportedLanguages']"
   ]
  },
  {
   "cell_type": "code",
   "execution_count": 13,
   "metadata": {},
   "outputs": [],
   "source": [
    "# Split de la columna SupportedLanguages\n",
    "df_languages = games['SupportedLanguages'].str.strip(\"[]\").str.split(', ', expand=True)\n",
    "\n",
    "# Melt para llevar las columnas a filas\n",
    "df_melted = pd.melt(df_languages, value_name='Language').dropna()['Language'].str.strip(\"'\")\n",
    "\n",
    "# Contar la frecuencia de cada lenguaje\n",
    "language_counts = df_melted.value_counts().reset_index()\n",
    "\n",
    "# Renombrar las columnas\n",
    "language_counts.columns = ['Language', 'Frequency']\n",
    "\n",
    "# Mostrar el resultado\n",
    "#print(language_counts)\n"
   ]
  },
  {
   "cell_type": "code",
   "execution_count": 18,
   "metadata": {},
   "outputs": [
    {
     "data": {
      "text/plain": [
       "array(['English', 'Simplified Chinese', 'German', 'French', 'Russian',\n",
       "       'Spanish - Spain', 'Japanese', 'Italian', 'Korean',\n",
       "       'Traditional Chinese', 'Portuguese - Brazil', 'Polish', 'Turkish',\n",
       "       'Spanish - Latin America', 'Dutch', 'Portuguese', '', 'Czech',\n",
       "       'Swedish', 'Ukrainian', 'Hungarian', 'Arabic', 'Thai', 'Danish',\n",
       "       'Norwegian', 'Finnish', 'Romanian', 'Greek', 'Vietnamese',\n",
       "       'Bulgarian', 'Portuguese - Portugal', 'Indonesian', 'Hindi',\n",
       "       'Catalan', 'Malay', 'Slovak', 'Serbian', 'Latvian', 'Lithuanian',\n",
       "       'Hebrew', 'Croatian', 'Bangla', 'Estonian', 'Basque', 'Filipino',\n",
       "       'Belarusian', 'Azerbaijani', 'Albanian', 'Galician', 'Persian',\n",
       "       'Afrikaans', 'Urdu', 'Georgian', 'Slovenian', 'Bosnian',\n",
       "       'Icelandic', 'Irish', 'Kazakh', 'Macedonian', 'Mongolian', 'Uzbek',\n",
       "       'Luxembourgish', 'Zulu', 'Swahili', 'Welsh', 'Malayalam', 'Tajik',\n",
       "       'Tamil', 'Kinyarwanda', 'Tatar', 'Punjabi (Gurmukhi)', 'Nepali',\n",
       "       'Yoruba', 'Turkmen', 'Armenian', 'Maltese', 'Hausa', 'Maori',\n",
       "       'Uyghur', 'Sotho', 'Scots', 'Xhosa', 'Kannada', 'Igbo', 'Odia',\n",
       "       'Gujarati', 'Marathi', 'Kyrgyz', 'Sinhala', 'Assamese', 'Amharic',\n",
       "       'Telugu', 'Quechua', 'Punjabi (Shahmukhi)', 'Konkani', 'Sindhi',\n",
       "       'Khmer', 'Sorani', 'Tigrinya', 'Dari', 'Cherokee', \"K'iche\",\n",
       "       'Valencian', 'Wolof', 'Tswana', 'English[b][/b]',\n",
       "       'Korean&amp;lt;strong&amp;gt;&amp;lt;/strong&amp;gt;',\n",
       "       'German&amp;lt;strong&amp;gt;&amp;lt;/strong&amp;gt;',\n",
       "       'French&amp;lt;strong&amp;gt;&amp;lt;/strong&amp;gt;',\n",
       "       'Spanish - Spain&amp;lt;strong&amp;gt;&amp;lt;/strong&amp;gt;',\n",
       "       'English (full audio)',\n",
       "       'English&amp;lt;strong&amp;gt;&amp;lt;/strong&amp;gt;',\n",
       "       'Italian&amp;lt;strong&amp;gt;&amp;lt;/strong&amp;gt;',\n",
       "       'Japanese &amp;lt;br /&amp;gt;&amp;lt;br /&amp;gt;&amp;lt;strong&amp;gt;&amp;lt;/strong&amp;gt; ',\n",
       "       'German[b][/b]', 'Slovakian', 'German;',\n",
       "       'English,German,Spanish - Spain,#lang_français', 'Italian[b][/b]',\n",
       "       'French[b][/b]', 'Traditional Chinese (text only)',\n",
       "       'Japanese \\\\r\\\\n\\\\r\\\\n[b][/b] ', '\\\\r\\\\nFrench',\n",
       "       'English Dutch  English', 'Spanish - Spain[b][/b]',\n",
       "       'Japanese (all with full audio support)',\n",
       "       'Spanish - Spain\\\\r\\\\n[b][/b]',\n",
       "       'English\\\\r\\\\nRussian\\\\r\\\\nSpanish - Spain\\\\r\\\\nJapanese\\\\r\\\\nCzech',\n",
       "       ' Korean', 'Korean[b][/b]',\n",
       "       'Russian\\\\r\\\\nEnglish\\\\r\\\\nSpanish - Spain\\\\r\\\\nFrench\\\\r\\\\nJapanese\\\\r\\\\nCzech',\n",
       "       'Italian \\\\r\\\\n\\\\r\\\\n[b][/b] ', 'Russian\\\\r\\\\n[b][/b]',\n",
       "       'Hungarian,Polish', '\\\\r\\\\nGerman'], dtype=object)"
      ]
     },
     "execution_count": 18,
     "metadata": {},
     "output_type": "execute_result"
    }
   ],
   "source": [
    "language_counts['Language'].unique()"
   ]
  },
  {
   "cell_type": "code",
   "execution_count": 16,
   "metadata": {},
   "outputs": [
    {
     "name": "stdout",
     "output_type": "stream",
     "text": [
      "[  1  10   2  11   3   9   5   6  15   4   7  12  16  22   8  21  18  29\n",
      "  20  17  14  13  19  26  24  25  27  28  23 103  94  37  36  33 101  32\n",
      "  72  88  92  75  90  31 102  30  35  76  97  38  91  95  63  39  34]\n"
     ]
    }
   ],
   "source": [
    "unique_values = games['NumSupportedLanguages'].unique()\n",
    "print(unique_values)\n"
   ]
  },
  {
   "cell_type": "code",
   "execution_count": 17,
   "metadata": {},
   "outputs": [
    {
     "name": "stdout",
     "output_type": "stream",
     "text": [
      "['English']                                                                                                                                                                                                                                                                                                43536\n",
      "[]                                                                                                                                                                                                                                                                                                          3487\n",
      "['English', 'Russian']                                                                                                                                                                                                                                                                                      2440\n",
      "['Simplified Chinese']                                                                                                                                                                                                                                                                                      1944\n",
      "['English', 'Simplified Chinese']                                                                                                                                                                                                                                                                           1608\n",
      "                                                                                                                                                                                                                                                                                                           ...  \n",
      "['English', 'French', 'German', 'Spanish - Spain', 'Czech', 'Hungarian', 'Korean']                                                                                                                                                                                                                             1\n",
      "['English', 'Korean', 'Simplified Chinese', 'Traditional Chinese', 'Spanish - Spain', 'Portuguese - Brazil', 'Russian']                                                                                                                                                                                        1\n",
      "['English', 'French', 'Italian', 'German', 'Spanish - Spain', 'Traditional Chinese', 'Korean', 'Hungarian', 'Japanese', 'Portuguese']                                                                                                                                                                          1\n",
      "['English', 'French', 'Italian', 'German', 'Spanish - Spain', 'Czech', 'Danish', 'Dutch', 'Finnish', 'Greek', 'Hungarian', 'Japanese', 'Korean', 'Norwegian', 'Polish', 'Portuguese - Brazil', 'Russian', 'Simplified Chinese', 'Spanish - Latin America', 'Swedish', 'Traditional Chinese', 'Turkish']        1\n",
      "['English', 'Slovak']                                                                                                                                                                                                                                                                                          1\n",
      "Name: count, Length: 11305, dtype: int64\n"
     ]
    }
   ],
   "source": [
    "idiomas_frecuencia = games['SupportedLanguages'].apply(pd.Series).stack().value_counts()\n",
    "print(idiomas_frecuencia)"
   ]
  },
  {
   "cell_type": "markdown",
   "metadata": {},
   "source": [
    "Developers\t"
   ]
  },
  {
   "cell_type": "code",
   "execution_count": 18,
   "metadata": {},
   "outputs": [
    {
     "name": "stdout",
     "output_type": "stream",
     "text": [
      "['Perpetual FX Creative' 'Rusty Moyher' 'Campião Games' ...\n",
      " 'Xamk Game Studios' '955 Games' 'MCA']\n"
     ]
    }
   ],
   "source": [
    "unique_values = games['Developers'].unique()\n",
    "print(unique_values)"
   ]
  },
  {
   "cell_type": "code",
   "execution_count": 19,
   "metadata": {},
   "outputs": [
    {
     "data": {
      "text/plain": [
       "array(['溪风谷之战 Playtest', 'Burial Stone Playtest',\n",
       "       'Emperial Knights Playtest', ..., 'Dastaan Playtest',\n",
       "       'Backpack Battles Playtest', 'Scorching Engines Playtest'],\n",
       "      dtype=object)"
      ]
     },
     "execution_count": 19,
     "metadata": {},
     "output_type": "execute_result"
    }
   ],
   "source": [
    "games.loc[games['Developers'].isna(),\"Name\"].unique()"
   ]
  },
  {
   "cell_type": "markdown",
   "metadata": {},
   "source": [
    "Categories "
   ]
  },
  {
   "cell_type": "code",
   "execution_count": 20,
   "metadata": {},
   "outputs": [
    {
     "name": "stderr",
     "output_type": "stream",
     "text": [
      "C:\\Users\\saale\\AppData\\Local\\Temp\\ipykernel_20692\\1265828108.py:1: FutureWarning: A value is trying to be set on a copy of a DataFrame or Series through chained assignment using an inplace method.\n",
      "The behavior will change in pandas 3.0. This inplace method will never work because the intermediate object on which we are setting values always behaves as a copy.\n",
      "\n",
      "For example, when doing 'df[col].method(value, inplace=True)', try using 'df.method({col: value}, inplace=True)' or df[col] = df[col].method(value) instead, to perform the operation inplace on the original object.\n",
      "\n",
      "\n",
      "  games['Categories'].fillna('Unknown', inplace=True)\n"
     ]
    }
   ],
   "source": [
    "games['Categories'].fillna('Unknown', inplace=True)\n"
   ]
  },
  {
   "cell_type": "code",
   "execution_count": null,
   "metadata": {},
   "outputs": [],
   "source": [
    "games.isna().sum()"
   ]
  },
  {
   "cell_type": "markdown",
   "metadata": {},
   "source": [
    "Genres"
   ]
  },
  {
   "cell_type": "markdown",
   "metadata": {},
   "source": [
    "Tags "
   ]
  },
  {
   "cell_type": "code",
   "execution_count": null,
   "metadata": {},
   "outputs": [],
   "source": [
    "print(games['Tags'])"
   ]
  },
  {
   "cell_type": "code",
   "execution_count": null,
   "metadata": {},
   "outputs": [],
   "source": [
    "from collections import Counter\n",
    "\n",
    "# Supongamos que tienes un DataFrame llamado df y la columna es 'tags'\n",
    "# df = ...\n",
    "\n",
    "# Separar los tags y contar su frecuencia\n",
    "tags_series = games['Tags'].str.split(',').dropna()\n",
    "flattened_tags = [tag for sublist in tags_series for tag in sublist]\n",
    "tag_counts = Counter(flattened_tags)\n",
    "\n",
    "# Crear un nuevo DataFrame para mostrar los resultados\n",
    "tags_df = pd.DataFrame(list(tag_counts.items()), columns=['Tag', 'Count'])\n",
    "\n",
    "# Ordenar el DataFrame por la columna 'Count' de mayor a menor\n",
    "tags_df = tags_df.sort_values(by='Count', ascending=False)\n",
    "\n",
    "# Mostrar los 10 tags más comunes (puedes ajustar esto según tus necesidades)\n",
    "print(tags_df)\n",
    "print(tags_df['Tag'].unique()) \n"
   ]
  },
  {
   "cell_type": "code",
   "execution_count": null,
   "metadata": {},
   "outputs": [],
   "source": [
    "\n",
    "# Separar los tags y contar su frecuencia\n",
    "tags_series = games['Tags'].str.split(',').dropna()\n",
    "flattened_tags = [tag for sublist in tags_series for tag in sublist]\n",
    "tag_counts = Counter(flattened_tags)\n",
    "\n",
    "# Crear un DataFrame para mostrar los resultados\n",
    "tags_df = pd.DataFrame(list(tag_counts.items()), columns=['Tags', 'Count'])\n",
    "\n",
    "# Ordenar el DataFrame por la columna 'Count' de mayor a menor\n",
    "tags_df = tags_df.sort_values(by='Count', ascending=False)\n",
    "\n",
    "# Relacionar los tags con la columna 'EstimatedOwners'\n",
    "tags_and_owners = pd.merge(games[['Tags', 'EstimatedOwners']], tags_df, left_on='Tags', right_on='Tags', how='left')\n",
    "\n",
    "# Mostrar los primeros 10 registros del DataFrame resultante\n",
    "print(tags_and_owners)\n"
   ]
  },
  {
   "cell_type": "markdown",
   "metadata": {},
   "source": [
    "Estimated Owners"
   ]
  },
  {
   "cell_type": "code",
   "execution_count": 56,
   "metadata": {},
   "outputs": [
    {
     "data": {
      "text/plain": [
       "EstimatedOwners\n",
       "0 - 20000                55284\n",
       "0 - 0                    11499\n",
       "20000 - 50000             7808\n",
       "50000 - 100000            3886\n",
       "100000 - 200000           2566\n",
       "200000 - 500000           2142\n",
       "500000 - 1000000           906\n",
       "1000000 - 2000000          521\n",
       "2000000 - 5000000          329\n",
       "5000000 - 10000000          92\n",
       "10000000 - 20000000         38\n",
       "20000000 - 50000000         21\n",
       "50000000 - 100000000         4\n",
       "100000000 - 200000000        1\n",
       "Name: count, dtype: int64"
      ]
     },
     "execution_count": 56,
     "metadata": {},
     "output_type": "execute_result"
    }
   ],
   "source": [
    "games['EstimatedOwners'].value_counts()"
   ]
  },
  {
   "cell_type": "code",
   "execution_count": 55,
   "metadata": {},
   "outputs": [
    {
     "data": {
      "image/png": "[encoded data removed]",
      "text/plain": [
       "<Figure size 1000x800 with 1 Axes>"
      ]
     },
     "metadata": {},
     "output_type": "display_data"
    }
   ],
   "source": [
    "# Definir el orden correcto de las categorías\n",
    "order = ['0 - 0', '0 - 20000', '20000 - 50000', '50000 - 100000',\n",
    "         '100000 - 200000', '200000 - 500000', '500000 - 1000000',\n",
    "         '1000000 - 2000000', '2000000 - 5000000', '5000000 - 10000000',\n",
    "         '10000000 - 20000000', '20000000 - 50000000', '50000000 - 100000000', '100000000 - 200000000']\n",
    "\n",
    "# Convertir la columna 'EstimatedOwners' a una categoría ordenada\n",
    "games['EstimatedOwners'] = pd.Categorical(games['EstimatedOwners'], categories=order, ordered=True)\n",
    "\n",
    "# Ordenar el DataFrame por la nueva columna 'EstimatedOwners'\n",
    "games_sorted = games.sort_values(by='EstimatedOwners')\n",
    "\n",
    "# Crear el gráfico de barras con Seaborn y ajustar el tamaño\n",
    "plt.figure(figsize=(10, 8))\n",
    "sns.countplot(x='EstimatedOwners', data=games_sorted, color='green')\n",
    "\n",
    "plt.xticks(rotation=45)\n",
    "\n",
    "# Añadir etiquetas y título\n",
    "plt.xlabel('Frecuencia')\n",
    "plt.ylabel('Estimated Owners')\n",
    "plt.title('Histograma de Estimated Owners')\n",
    "\n",
    "# Mostrar el gráfico de barras\n",
    "plt.show()\n"
   ]
  }
 ],
 "metadata": {
  "kernelspec": {
   "display_name": "venv",
   "language": "python",
   "name": "python3"
  },
  "language_info": {
   "codemirror_mode": {
    "name": "ipython",
    "version": 3
   },
   "file_extension": ".py",
   "mimetype": "text/x-python",
   "name": "python",
   "nbconvert_exporter": "python",
   "pygments_lexer": "ipython3",
   "version": "3.10.2"
  }
 },
 "nbformat": 4,
 "nbformat_minor": 2
}
