{
 "cells": [
  {
   "cell_type": "code",
   "execution_count": 8,
   "metadata": {},
   "outputs": [],
   "source": [
    "import pandas as pd\n",
    "import matplotlib.pyplot as plt\n",
    "import seaborn as sns"
   ]
  },
  {
   "cell_type": "code",
   "execution_count": null,
   "metadata": {},
   "outputs": [],
   "source": [
    "file_path = '../data/games.csv'\n",
    "games = pd.read_csv(file_path)\n",
    "\n",
    "games.head(5)"
   ]
  },
  {
   "cell_type": "code",
   "execution_count": null,
   "metadata": {},
   "outputs": [],
   "source": [
    "games.info()"
   ]
  },
  {
   "cell_type": "code",
   "execution_count": null,
   "metadata": {},
   "outputs": [],
   "source": [
    "df_summary = {\n",
    "    'columns': games.columns,\n",
    "    'types': games.dtypes,\n",
    "    'missing': games.isna().sum(),\n",
    "    'size': games.shape[0],\n",
    "    'unique': games.nunique()\n",
    "}\n",
    "\n",
    "print(pd.DataFrame(df_summary))"
   ]
  },
  {
   "cell_type": "code",
   "execution_count": null,
   "metadata": {},
   "outputs": [],
   "source": [
    "# Crear la gráfica de barras\n",
    "plt.figure(figsize=(6, 6))\n",
    "ax = sns.countplot(x='types', data=df_summary)\n",
    "\n",
    "# Agregar los valores encima de las barras\n",
    "for p in ax.patches:\n",
    "    ax.annotate(f'{int(p.get_height())}', (p.get_x() + p.get_width() / 2., p.get_height()),\n",
    "                ha='center', va='center', xytext=(0, 10), textcoords='offset points')\n",
    "\n",
    "# Añadir etiquetas y título\n",
    "plt.title('Count of games by type')\n",
    "plt.xlabel('Type')\n",
    "plt.ylabel('Count')\n",
    "\n",
    "# Mostrar la gráfica\n",
    "plt.show()"
   ]
  },
  {
   "cell_type": "code",
   "execution_count": null,
   "metadata": {},
   "outputs": [],
   "source": [
    "def capitalize_next_word(column_name):\n",
    "    result = \"\"\n",
    "    capitalize_next = True\n",
    "    for char in column_name:\n",
    "        if char == \" \":\n",
    "            capitalize_next = True\n",
    "        elif capitalize_next:\n",
    "            result += char.upper()\n",
    "            capitalize_next = False\n",
    "        else:\n",
    "            result += char\n",
    "    return result\n",
    "\n",
    "games.rename(columns=capitalize_next_word, inplace=True)\n",
    "games.columns\n"
   ]
  }
 ],
 "metadata": {
  "kernelspec": {
   "display_name": "venv",
   "language": "python",
   "name": "python3"
  },
  "language_info": {
   "codemirror_mode": {
    "name": "ipython",
    "version": 3
   },
   "file_extension": ".py",
   "mimetype": "text/x-python",
   "name": "python",
   "nbconvert_exporter": "python",
   "pygments_lexer": "ipython3",
   "version": "3.10.2"
  }
 },
 "nbformat": 4,
 "nbformat_minor": 2
}
